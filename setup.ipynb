{
 "cells": [
  {
   "cell_type": "code",
   "execution_count": 1,
   "metadata": {},
   "outputs": [
    {
     "name": "stdout",
     "output_type": "stream",
     "text": [
      "Requirement already satisfied: radcad==0.8.4 in c:\\users\\e4roh\\anaconda3\\envs\\te_demo_cadcadgpt\\lib\\site-packages (from -r requirements.txt (line 1)) (0.8.4)\n",
      "Requirement already satisfied: plotly==4.14.3 in c:\\users\\e4roh\\anaconda3\\envs\\te_demo_cadcadgpt\\lib\\site-packages (from -r requirements.txt (line 2)) (4.14.3)\n",
      "Requirement already satisfied: openai==0.28.1 in c:\\users\\e4roh\\anaconda3\\envs\\te_demo_cadcadgpt\\lib\\site-packages (from -r requirements.txt (line 3)) (0.28.1)\n",
      "Collecting langchain==0.0.342 (from -r requirements.txt (line 4))\n",
      "  Using cached langchain-0.0.342-py3-none-any.whl.metadata (16 kB)\n",
      "Collecting langchain-experimental==0.0.43 (from -r requirements.txt (line 5))\n",
      "  Using cached langchain_experimental-0.0.43-py3-none-any.whl.metadata (1.8 kB)\n",
      "Requirement already satisfied: typing-inspect==0.8.0 in c:\\users\\e4roh\\anaconda3\\envs\\te_demo_cadcadgpt\\lib\\site-packages (from -r requirements.txt (line 6)) (0.8.0)\n",
      "Requirement already satisfied: typing_extensions==4.5.0 in c:\\users\\e4roh\\anaconda3\\envs\\te_demo_cadcadgpt\\lib\\site-packages (from -r requirements.txt (line 7)) (4.5.0)\n",
      "Requirement already satisfied: pydantic==1.10.11 in c:\\users\\e4roh\\anaconda3\\envs\\te_demo_cadcadgpt\\lib\\site-packages (from -r requirements.txt (line 8)) (1.10.11)\n",
      "Requirement already satisfied: tabulate in c:\\users\\e4roh\\anaconda3\\envs\\te_demo_cadcadgpt\\lib\\site-packages (from -r requirements.txt (line 9)) (0.9.0)\n",
      "Requirement already satisfied: tiktoken in c:\\users\\e4roh\\anaconda3\\envs\\te_demo_cadcadgpt\\lib\\site-packages (from -r requirements.txt (line 10)) (0.5.1)\n",
      "Requirement already satisfied: faiss-cpu in c:\\users\\e4roh\\anaconda3\\envs\\te_demo_cadcadgpt\\lib\\site-packages (from -r requirements.txt (line 11)) (1.7.4)\n",
      "Requirement already satisfied: nbformat in c:\\users\\e4roh\\anaconda3\\envs\\te_demo_cadcadgpt\\lib\\site-packages (from -r requirements.txt (line 12)) (5.9.2)\n",
      "Requirement already satisfied: pandas<2.0.0,>=1.0.0 in c:\\users\\e4roh\\anaconda3\\envs\\te_demo_cadcadgpt\\lib\\site-packages (from radcad==0.8.4->-r requirements.txt (line 1)) (1.5.3)\n",
      "Requirement already satisfied: pathos<0.3.0,>=0.2.7 in c:\\users\\e4roh\\anaconda3\\envs\\te_demo_cadcadgpt\\lib\\site-packages (from radcad==0.8.4->-r requirements.txt (line 1)) (0.2.9)\n",
      "Requirement already satisfied: retrying>=1.3.3 in c:\\users\\e4roh\\anaconda3\\envs\\te_demo_cadcadgpt\\lib\\site-packages (from plotly==4.14.3->-r requirements.txt (line 2)) (1.3.4)\n",
      "Requirement already satisfied: six in c:\\users\\e4roh\\anaconda3\\envs\\te_demo_cadcadgpt\\lib\\site-packages (from plotly==4.14.3->-r requirements.txt (line 2)) (1.16.0)\n",
      "Requirement already satisfied: requests>=2.20 in c:\\users\\e4roh\\anaconda3\\envs\\te_demo_cadcadgpt\\lib\\site-packages (from openai==0.28.1->-r requirements.txt (line 3)) (2.31.0)\n",
      "Requirement already satisfied: tqdm in c:\\users\\e4roh\\anaconda3\\envs\\te_demo_cadcadgpt\\lib\\site-packages (from openai==0.28.1->-r requirements.txt (line 3)) (4.66.1)\n",
      "Requirement already satisfied: aiohttp in c:\\users\\e4roh\\anaconda3\\envs\\te_demo_cadcadgpt\\lib\\site-packages (from openai==0.28.1->-r requirements.txt (line 3)) (3.9.1)\n",
      "Requirement already satisfied: PyYAML>=5.3 in c:\\users\\e4roh\\anaconda3\\envs\\te_demo_cadcadgpt\\lib\\site-packages (from langchain==0.0.342->-r requirements.txt (line 4)) (6.0.1)\n",
      "Requirement already satisfied: SQLAlchemy<3,>=1.4 in c:\\users\\e4roh\\anaconda3\\envs\\te_demo_cadcadgpt\\lib\\site-packages (from langchain==0.0.342->-r requirements.txt (line 4)) (2.0.23)\n",
      "Requirement already satisfied: anyio<4.0 in c:\\users\\e4roh\\anaconda3\\envs\\te_demo_cadcadgpt\\lib\\site-packages (from langchain==0.0.342->-r requirements.txt (line 4)) (3.7.1)\n",
      "Requirement already satisfied: async-timeout<5.0.0,>=4.0.0 in c:\\users\\e4roh\\anaconda3\\envs\\te_demo_cadcadgpt\\lib\\site-packages (from langchain==0.0.342->-r requirements.txt (line 4)) (4.0.3)\n",
      "Requirement already satisfied: dataclasses-json<0.7,>=0.5.7 in c:\\users\\e4roh\\anaconda3\\envs\\te_demo_cadcadgpt\\lib\\site-packages (from langchain==0.0.342->-r requirements.txt (line 4)) (0.6.3)\n",
      "Requirement already satisfied: jsonpatch<2.0,>=1.33 in c:\\users\\e4roh\\anaconda3\\envs\\te_demo_cadcadgpt\\lib\\site-packages (from langchain==0.0.342->-r requirements.txt (line 4)) (1.33)\n",
      "Collecting langchain-core<0.1,>=0.0.7 (from langchain==0.0.342->-r requirements.txt (line 4))\n",
      "  Using cached langchain_core-0.0.7-py3-none-any.whl.metadata (750 bytes)\n",
      "Requirement already satisfied: langsmith<0.1.0,>=0.0.63 in c:\\users\\e4roh\\anaconda3\\envs\\te_demo_cadcadgpt\\lib\\site-packages (from langchain==0.0.342->-r requirements.txt (line 4)) (0.0.67)\n",
      "Requirement already satisfied: numpy<2,>=1 in c:\\users\\e4roh\\anaconda3\\envs\\te_demo_cadcadgpt\\lib\\site-packages (from langchain==0.0.342->-r requirements.txt (line 4)) (1.26.2)\n",
      "Requirement already satisfied: tenacity<9.0.0,>=8.1.0 in c:\\users\\e4roh\\anaconda3\\envs\\te_demo_cadcadgpt\\lib\\site-packages (from langchain==0.0.342->-r requirements.txt (line 4)) (8.2.3)\n",
      "Requirement already satisfied: mypy-extensions>=0.3.0 in c:\\users\\e4roh\\anaconda3\\envs\\te_demo_cadcadgpt\\lib\\site-packages (from typing-inspect==0.8.0->-r requirements.txt (line 6)) (1.0.0)\n",
      "Requirement already satisfied: regex>=2022.1.18 in c:\\users\\e4roh\\anaconda3\\envs\\te_demo_cadcadgpt\\lib\\site-packages (from tiktoken->-r requirements.txt (line 10)) (2023.10.3)\n",
      "Requirement already satisfied: fastjsonschema in c:\\users\\e4roh\\anaconda3\\envs\\te_demo_cadcadgpt\\lib\\site-packages (from nbformat->-r requirements.txt (line 12)) (2.19.0)\n",
      "Requirement already satisfied: jsonschema>=2.6 in c:\\users\\e4roh\\anaconda3\\envs\\te_demo_cadcadgpt\\lib\\site-packages (from nbformat->-r requirements.txt (line 12)) (4.20.0)\n",
      "Requirement already satisfied: jupyter-core in c:\\users\\e4roh\\anaconda3\\envs\\te_demo_cadcadgpt\\lib\\site-packages (from nbformat->-r requirements.txt (line 12)) (4.12.0)\n",
      "Requirement already satisfied: traitlets>=5.1 in c:\\users\\e4roh\\anaconda3\\envs\\te_demo_cadcadgpt\\lib\\site-packages (from nbformat->-r requirements.txt (line 12)) (5.14.0)\n",
      "Requirement already satisfied: attrs>=17.3.0 in c:\\users\\e4roh\\anaconda3\\envs\\te_demo_cadcadgpt\\lib\\site-packages (from aiohttp->openai==0.28.1->-r requirements.txt (line 3)) (23.1.0)\n",
      "Requirement already satisfied: multidict<7.0,>=4.5 in c:\\users\\e4roh\\anaconda3\\envs\\te_demo_cadcadgpt\\lib\\site-packages (from aiohttp->openai==0.28.1->-r requirements.txt (line 3)) (6.0.4)\n",
      "Requirement already satisfied: yarl<2.0,>=1.0 in c:\\users\\e4roh\\anaconda3\\envs\\te_demo_cadcadgpt\\lib\\site-packages (from aiohttp->openai==0.28.1->-r requirements.txt (line 3)) (1.9.3)\n",
      "Requirement already satisfied: frozenlist>=1.1.1 in c:\\users\\e4roh\\anaconda3\\envs\\te_demo_cadcadgpt\\lib\\site-packages (from aiohttp->openai==0.28.1->-r requirements.txt (line 3)) (1.4.0)\n",
      "Requirement already satisfied: aiosignal>=1.1.2 in c:\\users\\e4roh\\anaconda3\\envs\\te_demo_cadcadgpt\\lib\\site-packages (from aiohttp->openai==0.28.1->-r requirements.txt (line 3)) (1.3.1)\n",
      "Requirement already satisfied: idna>=2.8 in c:\\users\\e4roh\\anaconda3\\envs\\te_demo_cadcadgpt\\lib\\site-packages (from anyio<4.0->langchain==0.0.342->-r requirements.txt (line 4)) (3.6)\n",
      "Requirement already satisfied: sniffio>=1.1 in c:\\users\\e4roh\\anaconda3\\envs\\te_demo_cadcadgpt\\lib\\site-packages (from anyio<4.0->langchain==0.0.342->-r requirements.txt (line 4)) (1.3.0)\n",
      "Requirement already satisfied: exceptiongroup in c:\\users\\e4roh\\anaconda3\\envs\\te_demo_cadcadgpt\\lib\\site-packages (from anyio<4.0->langchain==0.0.342->-r requirements.txt (line 4)) (1.2.0)\n",
      "Requirement already satisfied: marshmallow<4.0.0,>=3.18.0 in c:\\users\\e4roh\\anaconda3\\envs\\te_demo_cadcadgpt\\lib\\site-packages (from dataclasses-json<0.7,>=0.5.7->langchain==0.0.342->-r requirements.txt (line 4)) (3.20.1)\n",
      "Requirement already satisfied: jsonpointer>=1.9 in c:\\users\\e4roh\\anaconda3\\envs\\te_demo_cadcadgpt\\lib\\site-packages (from jsonpatch<2.0,>=1.33->langchain==0.0.342->-r requirements.txt (line 4)) (2.4)\n",
      "Requirement already satisfied: jsonschema-specifications>=2023.03.6 in c:\\users\\e4roh\\anaconda3\\envs\\te_demo_cadcadgpt\\lib\\site-packages (from jsonschema>=2.6->nbformat->-r requirements.txt (line 12)) (2023.11.1)\n",
      "Requirement already satisfied: referencing>=0.28.4 in c:\\users\\e4roh\\anaconda3\\envs\\te_demo_cadcadgpt\\lib\\site-packages (from jsonschema>=2.6->nbformat->-r requirements.txt (line 12)) (0.31.1)\n",
      "Requirement already satisfied: rpds-py>=0.7.1 in c:\\users\\e4roh\\anaconda3\\envs\\te_demo_cadcadgpt\\lib\\site-packages (from jsonschema>=2.6->nbformat->-r requirements.txt (line 12)) (0.13.2)\n",
      "Requirement already satisfied: python-dateutil>=2.8.1 in c:\\users\\e4roh\\anaconda3\\envs\\te_demo_cadcadgpt\\lib\\site-packages (from pandas<2.0.0,>=1.0.0->radcad==0.8.4->-r requirements.txt (line 1)) (2.8.2)\n",
      "Requirement already satisfied: pytz>=2020.1 in c:\\users\\e4roh\\anaconda3\\envs\\te_demo_cadcadgpt\\lib\\site-packages (from pandas<2.0.0,>=1.0.0->radcad==0.8.4->-r requirements.txt (line 1)) (2023.3.post1)\n",
      "Requirement already satisfied: ppft>=1.7.6.5 in c:\\users\\e4roh\\anaconda3\\envs\\te_demo_cadcadgpt\\lib\\site-packages (from pathos<0.3.0,>=0.2.7->radcad==0.8.4->-r requirements.txt (line 1)) (1.7.6.7)\n",
      "Requirement already satisfied: dill>=0.3.5.1 in c:\\users\\e4roh\\anaconda3\\envs\\te_demo_cadcadgpt\\lib\\site-packages (from pathos<0.3.0,>=0.2.7->radcad==0.8.4->-r requirements.txt (line 1)) (0.3.7)\n",
      "Requirement already satisfied: pox>=0.3.1 in c:\\users\\e4roh\\anaconda3\\envs\\te_demo_cadcadgpt\\lib\\site-packages (from pathos<0.3.0,>=0.2.7->radcad==0.8.4->-r requirements.txt (line 1)) (0.3.3)\n",
      "Requirement already satisfied: multiprocess>=0.70.13 in c:\\users\\e4roh\\anaconda3\\envs\\te_demo_cadcadgpt\\lib\\site-packages (from pathos<0.3.0,>=0.2.7->radcad==0.8.4->-r requirements.txt (line 1)) (0.70.15)\n",
      "Requirement already satisfied: charset-normalizer<4,>=2 in c:\\users\\e4roh\\anaconda3\\envs\\te_demo_cadcadgpt\\lib\\site-packages (from requests>=2.20->openai==0.28.1->-r requirements.txt (line 3)) (3.3.2)\n",
      "Requirement already satisfied: urllib3<3,>=1.21.1 in c:\\users\\e4roh\\anaconda3\\envs\\te_demo_cadcadgpt\\lib\\site-packages (from requests>=2.20->openai==0.28.1->-r requirements.txt (line 3)) (2.1.0)\n",
      "Requirement already satisfied: certifi>=2017.4.17 in c:\\users\\e4roh\\anaconda3\\envs\\te_demo_cadcadgpt\\lib\\site-packages (from requests>=2.20->openai==0.28.1->-r requirements.txt (line 3)) (2023.11.17)\n",
      "Requirement already satisfied: greenlet!=0.4.17 in c:\\users\\e4roh\\anaconda3\\envs\\te_demo_cadcadgpt\\lib\\site-packages (from SQLAlchemy<3,>=1.4->langchain==0.0.342->-r requirements.txt (line 4)) (3.0.1)\n",
      "Requirement already satisfied: pywin32>=1.0 in c:\\users\\e4roh\\anaconda3\\envs\\te_demo_cadcadgpt\\lib\\site-packages (from jupyter-core->nbformat->-r requirements.txt (line 12)) (227)\n",
      "Requirement already satisfied: colorama in c:\\users\\e4roh\\anaconda3\\envs\\te_demo_cadcadgpt\\lib\\site-packages (from tqdm->openai==0.28.1->-r requirements.txt (line 3)) (0.4.6)\n",
      "Requirement already satisfied: packaging>=17.0 in c:\\users\\e4roh\\anaconda3\\envs\\te_demo_cadcadgpt\\lib\\site-packages (from marshmallow<4.0.0,>=3.18.0->dataclasses-json<0.7,>=0.5.7->langchain==0.0.342->-r requirements.txt (line 4)) (23.2)\n",
      "Using cached langchain-0.0.342-py3-none-any.whl (1.9 MB)\n",
      "Using cached langchain_experimental-0.0.43-py3-none-any.whl (159 kB)\n",
      "Using cached langchain_core-0.0.7-py3-none-any.whl (177 kB)\n",
      "Installing collected packages: langchain-core, langchain, langchain-experimental\n",
      "  Attempting uninstall: langchain\n",
      "    Found existing installation: langchain 0.0.330\n",
      "    Uninstalling langchain-0.0.330:\n",
      "      Successfully uninstalled langchain-0.0.330\n",
      "Successfully installed langchain-0.0.342 langchain-core-0.0.7 langchain-experimental-0.0.43\n",
      "Note: you may need to restart the kernel to use updated packages.\n"
     ]
    }
   ],
   "source": [
    "%pip install -r requirements.txt"
   ]
  },
  {
   "cell_type": "code",
   "execution_count": 2,
   "metadata": {},
   "outputs": [
    {
     "name": "stdout",
     "output_type": "stream",
     "text": [
      "Requirement already satisfied: python-dotenv in c:\\users\\e4roh\\anaconda3\\envs\\te_demo_cadcadgpt\\lib\\site-packages (1.0.0)\n",
      "Note: you may need to restart the kernel to use updated packages.\n"
     ]
    }
   ],
   "source": [
    "#import this incase you need to env variables for openai keys etc\n",
    "%pip install python-dotenv"
   ]
  },
  {
   "cell_type": "code",
   "execution_count": null,
   "metadata": {},
   "outputs": [],
   "source": []
  }
 ],
 "metadata": {
  "kernelspec": {
   "display_name": "TE_demo_cadcadGPT",
   "language": "python",
   "name": "python3"
  },
  "language_info": {
   "codemirror_mode": {
    "name": "ipython",
    "version": 3
   },
   "file_extension": ".py",
   "mimetype": "text/x-python",
   "name": "python",
   "nbconvert_exporter": "python",
   "pygments_lexer": "ipython3",
   "version": "3.9.18"
  }
 },
 "nbformat": 4,
 "nbformat_minor": 2
}
